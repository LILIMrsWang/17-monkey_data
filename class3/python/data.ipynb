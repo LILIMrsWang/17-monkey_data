{
 "cells": [
  {
   "cell_type": "markdown",
   "metadata": {},
   "source": [
    "# 利用 Pandas 进行简单数据分析"
   ]
  },
  {
   "cell_type": "markdown",
   "metadata": {},
   "source": [
    "> 本文来自于 猴子数据分析社群的通关作业，因为课程是用 R 语言教的，我是用 Python 实现了一遍，所以参考的文档也都列了出来，总结的也挺不容易的，欢迎同学吐槽。\n",
    "> 坚持看英文资料，坚持用 Google，坚持查官方文档。将原则很简单，虽然不可能一蹴而就，但是毕竟已经开始了。"
   ]
  },
  {
   "cell_type": "markdown",
   "metadata": {},
   "source": [
    "* 数据来源到猴子聊人物的微信公众号找，这里也直接列出来方便一点 <https://pan.baidu.com/s/1qYFL8O8#list/path=%2F>"
   ]
  },
  {
   "cell_type": "markdown",
   "metadata": {},
   "source": [
    "## 1. 读取 excel"
   ]
  },
  {
   "cell_type": "code",
   "execution_count": 1,
   "metadata": {
    "collapsed": true
   },
   "outputs": [],
   "source": [
    "# coding=utf-8\n",
    "\n",
    "import pandas as pd\n",
    "import numpy as np\n",
    "\n",
    "import matplotlib.pyplot as plt"
   ]
  },
  {
   "cell_type": "code",
   "execution_count": 2,
   "metadata": {
    "collapsed": true
   },
   "outputs": [],
   "source": [
    "file_name = \"../源代码和数据/朝阳医院2016年销售数据.xlsx\"\n",
    "\n",
    "xls_file = pd.ExcelFile(file_name, dtype='object') # 统一先按照str读入，之后转换\n",
    "\n",
    "table = xls_file.parse('Sheet1', dtype='object')"
   ]
  },
  {
   "cell_type": "code",
   "execution_count": 3,
   "metadata": {},
   "outputs": [
    {
     "name": "stdout",
     "output_type": "stream",
     "text": [
      "<class 'pandas.io.excel.ExcelFile'>\n",
      "<class 'pandas.core.frame.DataFrame'>\n"
     ]
    }
   ],
   "source": [
    "print type(xls_file)\n",
    "print type(table)"
   ]
  },
  {
   "cell_type": "code",
   "execution_count": 4,
   "metadata": {},
   "outputs": [
    {
     "data": {
      "text/html": [
       "<div>\n",
       "<style>\n",
       "    .dataframe thead tr:only-child th {\n",
       "        text-align: right;\n",
       "    }\n",
       "\n",
       "    .dataframe thead th {\n",
       "        text-align: left;\n",
       "    }\n",
       "\n",
       "    .dataframe tbody tr th {\n",
       "        vertical-align: top;\n",
       "    }\n",
       "</style>\n",
       "<table border=\"1\" class=\"dataframe\">\n",
       "  <thead>\n",
       "    <tr style=\"text-align: right;\">\n",
       "      <th></th>\n",
       "      <th>购药时间</th>\n",
       "      <th>社保卡号</th>\n",
       "      <th>商品编码</th>\n",
       "      <th>商品名称</th>\n",
       "      <th>销售数量</th>\n",
       "      <th>应收金额</th>\n",
       "      <th>实收金额</th>\n",
       "    </tr>\n",
       "  </thead>\n",
       "  <tbody>\n",
       "    <tr>\n",
       "      <th>0</th>\n",
       "      <td>NaN</td>\n",
       "      <td>NaN</td>\n",
       "      <td>NaN</td>\n",
       "      <td>NaN</td>\n",
       "      <td>NaN</td>\n",
       "      <td>NaN</td>\n",
       "      <td>NaN</td>\n",
       "    </tr>\n",
       "    <tr>\n",
       "      <th>1</th>\n",
       "      <td>NaN</td>\n",
       "      <td>001616527</td>\n",
       "      <td>NaN</td>\n",
       "      <td>三九感冒灵</td>\n",
       "      <td>NaN</td>\n",
       "      <td>NaN</td>\n",
       "      <td>NaN</td>\n",
       "    </tr>\n",
       "    <tr>\n",
       "      <th>2</th>\n",
       "      <td>2016-01-01 星期五</td>\n",
       "      <td>001616528</td>\n",
       "      <td>236701</td>\n",
       "      <td>三九感冒灵</td>\n",
       "      <td>7</td>\n",
       "      <td>196</td>\n",
       "      <td>182</td>\n",
       "    </tr>\n",
       "    <tr>\n",
       "      <th>3</th>\n",
       "      <td>2016-01-02 星期六</td>\n",
       "      <td>001616528</td>\n",
       "      <td>236701</td>\n",
       "      <td>三九感冒灵</td>\n",
       "      <td>3</td>\n",
       "      <td>84</td>\n",
       "      <td>84</td>\n",
       "    </tr>\n",
       "    <tr>\n",
       "      <th>4</th>\n",
       "      <td>2016-01-06 星期三</td>\n",
       "      <td>0010070343428</td>\n",
       "      <td>236701</td>\n",
       "      <td>三九感冒灵</td>\n",
       "      <td>3</td>\n",
       "      <td>84</td>\n",
       "      <td>73.92</td>\n",
       "    </tr>\n",
       "  </tbody>\n",
       "</table>\n",
       "</div>"
      ],
      "text/plain": [
       "             购药时间           社保卡号    商品编码   商品名称 销售数量 应收金额   实收金额\n",
       "0             NaN            NaN     NaN    NaN  NaN  NaN    NaN\n",
       "1             NaN      001616527     NaN  三九感冒灵  NaN  NaN    NaN\n",
       "2  2016-01-01 星期五      001616528  236701  三九感冒灵    7  196    182\n",
       "3  2016-01-02 星期六      001616528  236701  三九感冒灵    3   84     84\n",
       "4  2016-01-06 星期三  0010070343428  236701  三九感冒灵    3   84  73.92"
      ]
     },
     "execution_count": 4,
     "metadata": {},
     "output_type": "execute_result"
    }
   ],
   "source": [
    "table.head()"
   ]
  },
  {
   "cell_type": "markdown",
   "metadata": {},
   "source": [
    "## 2. 数据预处理"
   ]
  },
  {
   "cell_type": "markdown",
   "metadata": {},
   "source": [
    "### 2.1 查看基本信息"
   ]
  },
  {
   "cell_type": "code",
   "execution_count": 5,
   "metadata": {},
   "outputs": [
    {
     "name": "stdout",
     "output_type": "stream",
     "text": [
      "(6579, 7)\n",
      "RangeIndex(start=0, stop=6579, step=1)\n",
      "Index([u'购药时间', u'社保卡号', u'商品编码', u'商品名称', u'销售数量', u'应收金额', u'实收金额'], dtype='object')\n"
     ]
    }
   ],
   "source": [
    "print table.shape\n",
    "print table.index\n",
    "print table.columns"
   ]
  },
  {
   "cell_type": "code",
   "execution_count": 6,
   "metadata": {},
   "outputs": [
    {
     "name": "stdout",
     "output_type": "stream",
     "text": [
      "<class 'pandas.core.frame.DataFrame'>\n",
      "RangeIndex: 6579 entries, 0 to 6578\n",
      "Data columns (total 7 columns):\n",
      "购药时间    6577 non-null object\n",
      "社保卡号    6578 non-null object\n",
      "商品编码    6577 non-null object\n",
      "商品名称    6578 non-null object\n",
      "销售数量    6577 non-null object\n",
      "应收金额    6577 non-null object\n",
      "实收金额    6577 non-null object\n",
      "dtypes: object(7)\n",
      "memory usage: 359.9+ KB\n",
      "None\n"
     ]
    }
   ],
   "source": [
    "print table.info()"
   ]
  },
  {
   "cell_type": "code",
   "execution_count": 7,
   "metadata": {},
   "outputs": [
    {
     "name": "stdout",
     "output_type": "stream",
     "text": [
      "购药时间    6577\n",
      "社保卡号    6578\n",
      "商品编码    6577\n",
      "商品名称    6578\n",
      "销售数量    6577\n",
      "应收金额    6577\n",
      "实收金额    6577\n",
      "dtype: int64\n"
     ]
    }
   ],
   "source": [
    "print table.count()"
   ]
  },
  {
   "cell_type": "markdown",
   "metadata": {},
   "source": [
    "### 2.2 列重命名"
   ]
  },
  {
   "cell_type": "markdown",
   "metadata": {},
   "source": [
    "pandas 的 rename 方法  <https://pandas.pydata.org/pandas-docs/stable/generated/pandas.DataFrame.rename.html>"
   ]
  },
  {
   "cell_type": "code",
   "execution_count": 8,
   "metadata": {
    "collapsed": true
   },
   "outputs": [],
   "source": [
    "col = {u'购药时间':'time',\\\n",
    "       u'社保卡号':'cardno',\\\n",
    "       u'商品编码':'drugId',\\\n",
    "       u'商品名称':'drugName',\\\n",
    "       u'销售数量':'saleNumber',\\\n",
    "       u'应收金额':'virtualmoney',\\\n",
    "       u'实收金额':'actualmoney'}"
   ]
  },
  {
   "cell_type": "code",
   "execution_count": 9,
   "metadata": {
    "collapsed": true
   },
   "outputs": [],
   "source": [
    "table.rename(columns = col, inplace = True)"
   ]
  },
  {
   "cell_type": "code",
   "execution_count": 10,
   "metadata": {
    "scrolled": true
   },
   "outputs": [
    {
     "data": {
      "text/html": [
       "<div>\n",
       "<style>\n",
       "    .dataframe thead tr:only-child th {\n",
       "        text-align: right;\n",
       "    }\n",
       "\n",
       "    .dataframe thead th {\n",
       "        text-align: left;\n",
       "    }\n",
       "\n",
       "    .dataframe tbody tr th {\n",
       "        vertical-align: top;\n",
       "    }\n",
       "</style>\n",
       "<table border=\"1\" class=\"dataframe\">\n",
       "  <thead>\n",
       "    <tr style=\"text-align: right;\">\n",
       "      <th></th>\n",
       "      <th>time</th>\n",
       "      <th>cardno</th>\n",
       "      <th>drugId</th>\n",
       "      <th>drugName</th>\n",
       "      <th>saleNumber</th>\n",
       "      <th>virtualmoney</th>\n",
       "      <th>actualmoney</th>\n",
       "    </tr>\n",
       "  </thead>\n",
       "  <tbody>\n",
       "    <tr>\n",
       "      <th>0</th>\n",
       "      <td>NaN</td>\n",
       "      <td>NaN</td>\n",
       "      <td>NaN</td>\n",
       "      <td>NaN</td>\n",
       "      <td>NaN</td>\n",
       "      <td>NaN</td>\n",
       "      <td>NaN</td>\n",
       "    </tr>\n",
       "    <tr>\n",
       "      <th>1</th>\n",
       "      <td>NaN</td>\n",
       "      <td>001616527</td>\n",
       "      <td>NaN</td>\n",
       "      <td>三九感冒灵</td>\n",
       "      <td>NaN</td>\n",
       "      <td>NaN</td>\n",
       "      <td>NaN</td>\n",
       "    </tr>\n",
       "    <tr>\n",
       "      <th>2</th>\n",
       "      <td>2016-01-01 星期五</td>\n",
       "      <td>001616528</td>\n",
       "      <td>236701</td>\n",
       "      <td>三九感冒灵</td>\n",
       "      <td>7</td>\n",
       "      <td>196</td>\n",
       "      <td>182</td>\n",
       "    </tr>\n",
       "    <tr>\n",
       "      <th>3</th>\n",
       "      <td>2016-01-02 星期六</td>\n",
       "      <td>001616528</td>\n",
       "      <td>236701</td>\n",
       "      <td>三九感冒灵</td>\n",
       "      <td>3</td>\n",
       "      <td>84</td>\n",
       "      <td>84</td>\n",
       "    </tr>\n",
       "    <tr>\n",
       "      <th>4</th>\n",
       "      <td>2016-01-06 星期三</td>\n",
       "      <td>0010070343428</td>\n",
       "      <td>236701</td>\n",
       "      <td>三九感冒灵</td>\n",
       "      <td>3</td>\n",
       "      <td>84</td>\n",
       "      <td>73.92</td>\n",
       "    </tr>\n",
       "  </tbody>\n",
       "</table>\n",
       "</div>"
      ],
      "text/plain": [
       "             time         cardno  drugId drugName saleNumber virtualmoney  \\\n",
       "0             NaN            NaN     NaN      NaN        NaN          NaN   \n",
       "1             NaN      001616527     NaN    三九感冒灵        NaN          NaN   \n",
       "2  2016-01-01 星期五      001616528  236701    三九感冒灵          7          196   \n",
       "3  2016-01-02 星期六      001616528  236701    三九感冒灵          3           84   \n",
       "4  2016-01-06 星期三  0010070343428  236701    三九感冒灵          3           84   \n",
       "\n",
       "  actualmoney  \n",
       "0         NaN  \n",
       "1         NaN  \n",
       "2         182  \n",
       "3          84  \n",
       "4       73.92  "
      ]
     },
     "execution_count": 10,
     "metadata": {},
     "output_type": "execute_result"
    }
   ],
   "source": [
    "table.head()"
   ]
  },
  {
   "cell_type": "markdown",
   "metadata": {},
   "source": [
    "### 2.3 删除缺失值"
   ]
  },
  {
   "cell_type": "markdown",
   "metadata": {},
   "source": [
    "pandas 的 dropna 方法  <https://pandas.pydata.org/pandas-docs/stable/generated/pandas.DataFrame.dropna.html?highlight=dropna#pandas.DataFrame.dropna|>"
   ]
  },
  {
   "cell_type": "code",
   "execution_count": 29,
   "metadata": {
    "collapsed": true
   },
   "outputs": [],
   "source": [
    "dropna1 = table.dropna()\n",
    "dropna2 = table.dropna(how = 'all') # 参数设定是，所有值为 NA 才删除掉"
   ]
  },
  {
   "cell_type": "code",
   "execution_count": 12,
   "metadata": {
    "scrolled": true
   },
   "outputs": [
    {
     "data": {
      "text/html": [
       "<div>\n",
       "<style>\n",
       "    .dataframe thead tr:only-child th {\n",
       "        text-align: right;\n",
       "    }\n",
       "\n",
       "    .dataframe thead th {\n",
       "        text-align: left;\n",
       "    }\n",
       "\n",
       "    .dataframe tbody tr th {\n",
       "        vertical-align: top;\n",
       "    }\n",
       "</style>\n",
       "<table border=\"1\" class=\"dataframe\">\n",
       "  <thead>\n",
       "    <tr style=\"text-align: right;\">\n",
       "      <th></th>\n",
       "      <th>time</th>\n",
       "      <th>cardno</th>\n",
       "      <th>drugId</th>\n",
       "      <th>drugName</th>\n",
       "      <th>saleNumber</th>\n",
       "      <th>virtualmoney</th>\n",
       "      <th>actualmoney</th>\n",
       "    </tr>\n",
       "  </thead>\n",
       "  <tbody>\n",
       "    <tr>\n",
       "      <th>2</th>\n",
       "      <td>2016-01-01 星期五</td>\n",
       "      <td>001616528</td>\n",
       "      <td>236701</td>\n",
       "      <td>三九感冒灵</td>\n",
       "      <td>7</td>\n",
       "      <td>196</td>\n",
       "      <td>182</td>\n",
       "    </tr>\n",
       "    <tr>\n",
       "      <th>3</th>\n",
       "      <td>2016-01-02 星期六</td>\n",
       "      <td>001616528</td>\n",
       "      <td>236701</td>\n",
       "      <td>三九感冒灵</td>\n",
       "      <td>3</td>\n",
       "      <td>84</td>\n",
       "      <td>84</td>\n",
       "    </tr>\n",
       "    <tr>\n",
       "      <th>4</th>\n",
       "      <td>2016-01-06 星期三</td>\n",
       "      <td>0010070343428</td>\n",
       "      <td>236701</td>\n",
       "      <td>三九感冒灵</td>\n",
       "      <td>3</td>\n",
       "      <td>84</td>\n",
       "      <td>73.92</td>\n",
       "    </tr>\n",
       "    <tr>\n",
       "      <th>5</th>\n",
       "      <td>2016-01-11 星期一</td>\n",
       "      <td>0013389528</td>\n",
       "      <td>236701</td>\n",
       "      <td>三九感冒灵</td>\n",
       "      <td>1</td>\n",
       "      <td>28</td>\n",
       "      <td>28</td>\n",
       "    </tr>\n",
       "    <tr>\n",
       "      <th>6</th>\n",
       "      <td>2016-01-15 星期五</td>\n",
       "      <td>00101554328</td>\n",
       "      <td>236701</td>\n",
       "      <td>三九感冒灵</td>\n",
       "      <td>8</td>\n",
       "      <td>224</td>\n",
       "      <td>208</td>\n",
       "    </tr>\n",
       "  </tbody>\n",
       "</table>\n",
       "</div>"
      ],
      "text/plain": [
       "             time         cardno  drugId drugName saleNumber virtualmoney  \\\n",
       "2  2016-01-01 星期五      001616528  236701    三九感冒灵          7          196   \n",
       "3  2016-01-02 星期六      001616528  236701    三九感冒灵          3           84   \n",
       "4  2016-01-06 星期三  0010070343428  236701    三九感冒灵          3           84   \n",
       "5  2016-01-11 星期一     0013389528  236701    三九感冒灵          1           28   \n",
       "6  2016-01-15 星期五    00101554328  236701    三九感冒灵          8          224   \n",
       "\n",
       "  actualmoney  \n",
       "2         182  \n",
       "3          84  \n",
       "4       73.92  \n",
       "5          28  \n",
       "6         208  "
      ]
     },
     "execution_count": 12,
     "metadata": {},
     "output_type": "execute_result"
    }
   ],
   "source": [
    "dropna1.head()"
   ]
  },
  {
   "cell_type": "code",
   "execution_count": 13,
   "metadata": {},
   "outputs": [
    {
     "data": {
      "text/html": [
       "<div>\n",
       "<style>\n",
       "    .dataframe thead tr:only-child th {\n",
       "        text-align: right;\n",
       "    }\n",
       "\n",
       "    .dataframe thead th {\n",
       "        text-align: left;\n",
       "    }\n",
       "\n",
       "    .dataframe tbody tr th {\n",
       "        vertical-align: top;\n",
       "    }\n",
       "</style>\n",
       "<table border=\"1\" class=\"dataframe\">\n",
       "  <thead>\n",
       "    <tr style=\"text-align: right;\">\n",
       "      <th></th>\n",
       "      <th>time</th>\n",
       "      <th>cardno</th>\n",
       "      <th>drugId</th>\n",
       "      <th>drugName</th>\n",
       "      <th>saleNumber</th>\n",
       "      <th>virtualmoney</th>\n",
       "      <th>actualmoney</th>\n",
       "    </tr>\n",
       "  </thead>\n",
       "  <tbody>\n",
       "    <tr>\n",
       "      <th>1</th>\n",
       "      <td>NaN</td>\n",
       "      <td>001616527</td>\n",
       "      <td>NaN</td>\n",
       "      <td>三九感冒灵</td>\n",
       "      <td>NaN</td>\n",
       "      <td>NaN</td>\n",
       "      <td>NaN</td>\n",
       "    </tr>\n",
       "    <tr>\n",
       "      <th>2</th>\n",
       "      <td>2016-01-01 星期五</td>\n",
       "      <td>001616528</td>\n",
       "      <td>236701</td>\n",
       "      <td>三九感冒灵</td>\n",
       "      <td>7</td>\n",
       "      <td>196</td>\n",
       "      <td>182</td>\n",
       "    </tr>\n",
       "    <tr>\n",
       "      <th>3</th>\n",
       "      <td>2016-01-02 星期六</td>\n",
       "      <td>001616528</td>\n",
       "      <td>236701</td>\n",
       "      <td>三九感冒灵</td>\n",
       "      <td>3</td>\n",
       "      <td>84</td>\n",
       "      <td>84</td>\n",
       "    </tr>\n",
       "    <tr>\n",
       "      <th>4</th>\n",
       "      <td>2016-01-06 星期三</td>\n",
       "      <td>0010070343428</td>\n",
       "      <td>236701</td>\n",
       "      <td>三九感冒灵</td>\n",
       "      <td>3</td>\n",
       "      <td>84</td>\n",
       "      <td>73.92</td>\n",
       "    </tr>\n",
       "    <tr>\n",
       "      <th>5</th>\n",
       "      <td>2016-01-11 星期一</td>\n",
       "      <td>0013389528</td>\n",
       "      <td>236701</td>\n",
       "      <td>三九感冒灵</td>\n",
       "      <td>1</td>\n",
       "      <td>28</td>\n",
       "      <td>28</td>\n",
       "    </tr>\n",
       "  </tbody>\n",
       "</table>\n",
       "</div>"
      ],
      "text/plain": [
       "             time         cardno  drugId drugName saleNumber virtualmoney  \\\n",
       "1             NaN      001616527     NaN    三九感冒灵        NaN          NaN   \n",
       "2  2016-01-01 星期五      001616528  236701    三九感冒灵          7          196   \n",
       "3  2016-01-02 星期六      001616528  236701    三九感冒灵          3           84   \n",
       "4  2016-01-06 星期三  0010070343428  236701    三九感冒灵          3           84   \n",
       "5  2016-01-11 星期一     0013389528  236701    三九感冒灵          1           28   \n",
       "\n",
       "  actualmoney  \n",
       "1         NaN  \n",
       "2         182  \n",
       "3          84  \n",
       "4       73.92  \n",
       "5          28  "
      ]
     },
     "execution_count": 13,
     "metadata": {},
     "output_type": "execute_result"
    }
   ],
   "source": [
    "dropna2.head()"
   ]
  },
  {
   "cell_type": "markdown",
   "metadata": {},
   "source": [
    "### 2.4 处理日期"
   ]
  },
  {
   "cell_type": "markdown",
   "metadata": {},
   "source": [
    "* 一些列表推导式的参考内容 <https://docs.python.org/2.7/tutorial/datastructures.html?highlight=list%20comprehensions>\n",
    "* .to_datetime 方法 <https://pandas.pydata.org/pandas-docs/stable/generated/pandas.to_datetime.html>"
   ]
  },
  {
   "cell_type": "code",
   "execution_count": 31,
   "metadata": {
    "collapsed": true
   },
   "outputs": [],
   "source": [
    "# 定义一个把 time 行中日期和星期分开的函数，分别返回日期和星期构成的 list\n",
    "def split_datetime_weekday(t_w_column):\n",
    "    \n",
    "    datetime_list = [x.split()[0] for x in t_w_column ] # 列表推导式的简写\n",
    "    weekday_list = [x.split()[1] for x in t_w_column]\n",
    "    \n",
    "    return datetime_list, weekday_list\n"
   ]
  },
  {
   "cell_type": "code",
   "execution_count": 33,
   "metadata": {},
   "outputs": [],
   "source": [
    "datetime_list, weekday_list = split_datetime_weekday(dropna1.loc[:,'time'])\n",
    "dropna1.loc[:,'datetime'] = pd.to_datetime(datetime_list) \n",
    "# 这里直接用了一个 .to_datetime 方法，将所有数据的改成了 datetime64 的类型\n",
    "dropna1.loc[:, 'weekday'] = weekday_list"
   ]
  },
  {
   "cell_type": "code",
   "execution_count": 16,
   "metadata": {},
   "outputs": [
    {
     "name": "stdout",
     "output_type": "stream",
     "text": [
      "<class 'pandas.core.frame.DataFrame'>\n",
      "Int64Index: 6577 entries, 2 to 6578\n",
      "Data columns (total 9 columns):\n",
      "time            6577 non-null object\n",
      "cardno          6577 non-null object\n",
      "drugId          6577 non-null object\n",
      "drugName        6577 non-null object\n",
      "saleNumber      6577 non-null object\n",
      "virtualmoney    6577 non-null object\n",
      "actualmoney     6577 non-null object\n",
      "datetime        6577 non-null datetime64[ns]\n",
      "weekday         6577 non-null object\n",
      "dtypes: datetime64[ns](1), object(8)\n",
      "memory usage: 513.8+ KB\n"
     ]
    }
   ],
   "source": [
    "dropna1.info()"
   ]
  },
  {
   "cell_type": "markdown",
   "metadata": {},
   "source": [
    "### 2.5 数据类型转换"
   ]
  },
  {
   "cell_type": "markdown",
   "metadata": {},
   "source": [
    "* saleNumber    virtualmoney    actualmoney  三个 columns 的数据类型转换"
   ]
  },
  {
   "cell_type": "markdown",
   "metadata": {},
   "source": [
    "* astype 方法 <https://pandas.pydata.org/pandas-docs/stable/generated/pandas.DataFrame.astype.html?highlight=astype#pandas.DataFrame.astype>"
   ]
  },
  {
   "cell_type": "code",
   "execution_count": 17,
   "metadata": {
    "scrolled": true
   },
   "outputs": [
    {
     "name": "stderr",
     "output_type": "stream",
     "text": [
      "/Users/yuyang/anaconda/lib/python2.7/site-packages/ipykernel_launcher.py:1: SettingWithCopyWarning: \n",
      "A value is trying to be set on a copy of a slice from a DataFrame.\n",
      "Try using .loc[row_indexer,col_indexer] = value instead\n",
      "\n",
      "See the caveats in the documentation: http://pandas.pydata.org/pandas-docs/stable/indexing.html#indexing-view-versus-copy\n",
      "  \"\"\"Entry point for launching an IPython kernel.\n",
      "/Users/yuyang/anaconda/lib/python2.7/site-packages/ipykernel_launcher.py:2: SettingWithCopyWarning: \n",
      "A value is trying to be set on a copy of a slice from a DataFrame.\n",
      "Try using .loc[row_indexer,col_indexer] = value instead\n",
      "\n",
      "See the caveats in the documentation: http://pandas.pydata.org/pandas-docs/stable/indexing.html#indexing-view-versus-copy\n",
      "  \n",
      "/Users/yuyang/anaconda/lib/python2.7/site-packages/ipykernel_launcher.py:3: SettingWithCopyWarning: \n",
      "A value is trying to be set on a copy of a slice from a DataFrame.\n",
      "Try using .loc[row_indexer,col_indexer] = value instead\n",
      "\n",
      "See the caveats in the documentation: http://pandas.pydata.org/pandas-docs/stable/indexing.html#indexing-view-versus-copy\n",
      "  This is separate from the ipykernel package so we can avoid doing imports until\n"
     ]
    }
   ],
   "source": [
    "dropna1['saleNumber'] = dropna1['saleNumber'].astype('float64')\n",
    "dropna1['virtualmoney'] = dropna1['virtualmoney'].astype('float64')\n",
    "dropna1['actualmoney'] = dropna1['actualmoney'].astype('float64')"
   ]
  },
  {
   "cell_type": "markdown",
   "metadata": {},
   "source": [
    "* <http://pandas.pydata.org/pandas-docs/stable/indexing.html#indexing-view-versus-copy>\n",
    "\n"
   ]
  },
  {
   "cell_type": "markdown",
   "metadata": {},
   "source": [
    "* 对比两种索引形式 1. df[index][column]  2. df.loc[index:column] 为什么 后者更好\n",
    "\n",
    "1. 是先索引第一层级[index]，返回了 Dataframe 的对象，然后对这个对象再次索引 [column],所以可以看做是一种连续两次的线性操作\n",
    "2. iloc 索引则是利用了一个组合的索引，pandas 可以把这个返回对象当做一个整体处理，同时速度上也比第一种快。"
   ]
  },
  {
   "cell_type": "code",
   "execution_count": 18,
   "metadata": {},
   "outputs": [
    {
     "name": "stdout",
     "output_type": "stream",
     "text": [
      "<class 'pandas.core.frame.DataFrame'>\n",
      "Int64Index: 6577 entries, 2 to 6578\n",
      "Data columns (total 9 columns):\n",
      "time            6577 non-null object\n",
      "cardno          6577 non-null object\n",
      "drugId          6577 non-null object\n",
      "drugName        6577 non-null object\n",
      "saleNumber      6577 non-null float64\n",
      "virtualmoney    6577 non-null float64\n",
      "actualmoney     6577 non-null float64\n",
      "datetime        6577 non-null datetime64[ns]\n",
      "weekday         6577 non-null object\n",
      "dtypes: datetime64[ns](1), float64(3), object(5)\n",
      "memory usage: 513.8+ KB\n"
     ]
    }
   ],
   "source": [
    "dropna1.info()"
   ]
  },
  {
   "cell_type": "markdown",
   "metadata": {},
   "source": [
    "## 2.6 排序"
   ]
  },
  {
   "cell_type": "markdown",
   "metadata": {},
   "source": [
    "* 按销售时间对数据进行降序排列"
   ]
  },
  {
   "cell_type": "markdown",
   "metadata": {},
   "source": [
    "* 老的 sort 方法好像已经改名成为 sort_values 了，找了半天。<https://pandas.pydata.org/pandas-docs/stable/generated/pandas.DataFrame.sort_values.html?highlight=sort_values#pandas.DataFrame.sort_values>"
   ]
  },
  {
   "cell_type": "markdown",
   "metadata": {},
   "source": [
    "* DataFrame.sort_values(by, axis=0, ascending=True, inplace=False, kind='quicksort', na_position='last')  "
   ]
  },
  {
   "cell_type": "code",
   "execution_count": 19,
   "metadata": {},
   "outputs": [
    {
     "data": {
      "text/html": [
       "<div>\n",
       "<style>\n",
       "    .dataframe thead tr:only-child th {\n",
       "        text-align: right;\n",
       "    }\n",
       "\n",
       "    .dataframe thead th {\n",
       "        text-align: left;\n",
       "    }\n",
       "\n",
       "    .dataframe tbody tr th {\n",
       "        vertical-align: top;\n",
       "    }\n",
       "</style>\n",
       "<table border=\"1\" class=\"dataframe\">\n",
       "  <thead>\n",
       "    <tr style=\"text-align: right;\">\n",
       "      <th></th>\n",
       "      <th>time</th>\n",
       "      <th>cardno</th>\n",
       "      <th>drugId</th>\n",
       "      <th>drugName</th>\n",
       "      <th>saleNumber</th>\n",
       "      <th>virtualmoney</th>\n",
       "      <th>actualmoney</th>\n",
       "      <th>datetime</th>\n",
       "      <th>weekday</th>\n",
       "    </tr>\n",
       "  </thead>\n",
       "  <tbody>\n",
       "    <tr>\n",
       "      <th>2</th>\n",
       "      <td>2016-01-01 星期五</td>\n",
       "      <td>001616528</td>\n",
       "      <td>236701</td>\n",
       "      <td>三九感冒灵</td>\n",
       "      <td>7.0</td>\n",
       "      <td>196.0</td>\n",
       "      <td>182.0</td>\n",
       "      <td>2016-01-01</td>\n",
       "      <td>星期五</td>\n",
       "    </tr>\n",
       "    <tr>\n",
       "      <th>401</th>\n",
       "      <td>2016-01-01 星期五</td>\n",
       "      <td>0010074599128</td>\n",
       "      <td>2367011</td>\n",
       "      <td>开博通</td>\n",
       "      <td>5.0</td>\n",
       "      <td>140.0</td>\n",
       "      <td>125.0</td>\n",
       "      <td>2016-01-01</td>\n",
       "      <td>星期五</td>\n",
       "    </tr>\n",
       "    <tr>\n",
       "      <th>400</th>\n",
       "      <td>2016-01-01 星期五</td>\n",
       "      <td>0010072612028</td>\n",
       "      <td>2367011</td>\n",
       "      <td>开博通</td>\n",
       "      <td>1.0</td>\n",
       "      <td>28.0</td>\n",
       "      <td>25.0</td>\n",
       "      <td>2016-01-01</td>\n",
       "      <td>星期五</td>\n",
       "    </tr>\n",
       "  </tbody>\n",
       "</table>\n",
       "</div>"
      ],
      "text/plain": [
       "               time         cardno   drugId drugName  saleNumber  \\\n",
       "2    2016-01-01 星期五      001616528   236701    三九感冒灵         7.0   \n",
       "401  2016-01-01 星期五  0010074599128  2367011      开博通         5.0   \n",
       "400  2016-01-01 星期五  0010072612028  2367011      开博通         1.0   \n",
       "\n",
       "     virtualmoney  actualmoney   datetime weekday  \n",
       "2           196.0        182.0 2016-01-01     星期五  \n",
       "401         140.0        125.0 2016-01-01     星期五  \n",
       "400          28.0         25.0 2016-01-01     星期五  "
      ]
     },
     "execution_count": 19,
     "metadata": {},
     "output_type": "execute_result"
    }
   ],
   "source": [
    "dropna1.sort_values(\"time\").head(3)"
   ]
  },
  {
   "cell_type": "code",
   "execution_count": null,
   "metadata": {
    "collapsed": true
   },
   "outputs": [],
   "source": []
  },
  {
   "cell_type": "markdown",
   "metadata": {},
   "source": [
    "## 3 简单数据分析"
   ]
  },
  {
   "cell_type": "markdown",
   "metadata": {},
   "source": [
    "* 月均消费次数\n",
    "* 月均消费金额\n",
    "* 客单价\n",
    "* 消费趋势"
   ]
  },
  {
   "cell_type": "markdown",
   "metadata": {
    "collapsed": true
   },
   "source": [
    "### 3.1 月均消费次数"
   ]
  },
  {
   "cell_type": "markdown",
   "metadata": {},
   "source": [
    "要点：\n",
    "* 同一个日期和同一个社保卡号的多个消费记录算作一次消费，\n",
    "* 可以将单独两列抽出来单独分析，先去重复，然后再计数\n",
    "* 这个分析可以画一个每个月的消费次数的柱状图"
   ]
  },
  {
   "cell_type": "markdown",
   "metadata": {},
   "source": [
    "data_consume_unique 是将 datetime cardno 去重后复制出来的新的 Dataframe"
   ]
  },
  {
   "cell_type": "code",
   "execution_count": 20,
   "metadata": {},
   "outputs": [],
   "source": [
    "data_consume_unique = dropna1.drop_duplicates(subset=['datetime', 'cardno']).copy(deep = True)"
   ]
  },
  {
   "cell_type": "markdown",
   "metadata": {},
   "source": [
    "* drop_duplicates 的说明 <https://pandas.pydata.org/pandas-docs/stable/generated/pandas.DataFrame.drop_duplicates.html> 选取 datetime 和 cardno 作为筛选的子列\n",
    "* consume_time_date_ser 是将 datetime 作为 index，构建的 cardno 的时间序列。\n",
    "* 注：构建时间序列的内容一定要转换成列表。我自己也是探索了半天，用 Series 的数据，填充的都是 NA。"
   ]
  },
  {
   "cell_type": "code",
   "execution_count": 21,
   "metadata": {
    "collapsed": true
   },
   "outputs": [],
   "source": [
    "consume_time_date_ser = pd.Series(list(data_consume_unique['cardno']), index = data_consume_unique['datetime'])"
   ]
  },
  {
   "cell_type": "markdown",
   "metadata": {},
   "source": [
    "* 之前用了 sort_values 方法，果然也有 sort_index  <https://pandas.pydata.org/pandas-docs/stable/generated/pandas.DataFrame.sort_index.html>，这里通过排序时间序列的 index，分别取出开始日期和结束日期\n",
    "* timedelta 数据类型的 一些特性操作 <https://docs.python.org/2.7/library/datetime.html?highlight=timedelta#datetime.timedelta>，这里用了 `.days ` 提取出了时间区间的天数"
   ]
  },
  {
   "cell_type": "code",
   "execution_count": 22,
   "metadata": {
    "scrolled": true
   },
   "outputs": [
    {
     "name": "stdout",
     "output_type": "stream",
     "text": [
      "771\n"
     ]
    }
   ],
   "source": [
    "# 排序之后将日期结尾 减去 日期开头，计算总天数\n",
    "date_interval = consume_time_date_ser.sort_index().index[-1]-consume_time_date_ser.sort_index().index[0]\n",
    "# 利用总天使，计算总月数，其中 timedelta 数据类型的 attribute 参见官方文档\n",
    "# 这里用到了 days，提取出了总天数\n",
    "month_count = date_interval.days/30 + 1 # 我觉得这个月份应该是要 + 1 的，猴子老师课程里面没加\n",
    "\n",
    "month_consume = consume_time_date_ser.count()/month_count\n",
    "print month_consume"
   ]
  },
  {
   "cell_type": "markdown",
   "metadata": {},
   "source": [
    "* 通过时间序列的 month 分组，之后用 `.count()` 来计算组内总和,也就是每月消费次数"
   ]
  },
  {
   "cell_type": "code",
   "execution_count": 23,
   "metadata": {},
   "outputs": [
    {
     "data": {
      "image/png": "[encoded data removed]",
      "text/plain": [
       "<matplotlib.figure.Figure at 0x115b4ae10>"
      ]
     },
     "metadata": {},
     "output_type": "display_data"
    }
   ],
   "source": [
    "month_time = consume_time_date_ser.groupby(consume_time_date_ser.index.month).count()\n",
    "plt.plot(month_time.index, month_time)\n",
    "plt.show()"
   ]
  },
  {
   "cell_type": "markdown",
   "metadata": {},
   "source": [
    "### 3.2 月均消费金额"
   ]
  },
  {
   "cell_type": "markdown",
   "metadata": {},
   "source": [
    "* 月均消费金额  = 总消费金额 / 月份数\n",
    "* 这里可以画一个每月消费总额的柱状图"
   ]
  },
  {
   "cell_type": "code",
   "execution_count": 24,
   "metadata": {},
   "outputs": [
    {
     "name": "stdout",
     "output_type": "stream",
     "text": [
      "43518.6085714\n"
     ]
    }
   ],
   "source": [
    "total_money = dropna1['actualmoney'].sum()\n",
    "month_money = total_money / month_count\n",
    "print month_money # 43518.6085714"
   ]
  },
  {
   "cell_type": "markdown",
   "metadata": {},
   "source": [
    "* 构建以实收金额 actualmoney 的时间序列 data_consume_actual"
   ]
  },
  {
   "cell_type": "code",
   "execution_count": 25,
   "metadata": {
    "collapsed": true
   },
   "outputs": [],
   "source": [
    "data_consume_actual = pd.Series(list(dropna1['actualmoney']), index = list(dropna1['datetime']))"
   ]
  },
  {
   "cell_type": "markdown",
   "metadata": {},
   "source": [
    "* 通过 month 分组，对组内数据进行求和，求和结果为每月的实收金额总和"
   ]
  },
  {
   "cell_type": "code",
   "execution_count": 26,
   "metadata": {},
   "outputs": [
    {
     "data": {
      "image/png": "[encoded data removed]",
      "text/plain": [
       "<matplotlib.figure.Figure at 0x112957290>"
      ]
     },
     "metadata": {},
     "output_type": "display_data"
    }
   ],
   "source": [
    "month_consume = data_consume_actual.groupby(data_consume_actual.index.month).sum()\n",
    "plt.plot(month_consume.index, month_consume)\n",
    "plt.show()"
   ]
  },
  {
   "cell_type": "markdown",
   "metadata": {},
   "source": [
    "### 3.3 客单价"
   ]
  },
  {
   "cell_type": "markdown",
   "metadata": {},
   "source": [
    "* 客单价（per customer transaction）是指商场（超市）每一个顾客平均购买商品的金额，客单价也即是平均交易金额。"
   ]
  },
  {
   "cell_type": "code",
   "execution_count": 27,
   "metadata": {},
   "outputs": [
    {
     "name": "stdout",
     "output_type": "stream",
     "text": [
      "2426\n",
      "125.568944765\n"
     ]
    }
   ],
   "source": [
    "consume_num = len(dropna1['cardno'].unique())\n",
    "print consume_num # 所有不重复医保卡号码，总数量\n",
    "pct = total_money / consume_num\n",
    "print pct # 客单价"
   ]
  },
  {
   "cell_type": "markdown",
   "metadata": {},
   "source": [
    "### 3.4 消费趋势 "
   ]
  },
  {
   "cell_type": "markdown",
   "metadata": {},
   "source": [
    "* 分组也是根据 week 进行的分组，之后求和，类似于上面按照月的来求和\n",
    "* 画出随着 week 变化与 实收金额 actualmoney 的变化趋势"
   ]
  },
  {
   "cell_type": "code",
   "execution_count": 28,
   "metadata": {},
   "outputs": [
    {
     "data": {
      "image/png": "[encoded data removed]",
      "text/plain": [
       "<matplotlib.figure.Figure at 0x119595990>"
      ]
     },
     "metadata": {},
     "output_type": "display_data"
    }
   ],
   "source": [
    "week_consume = data_consume_actual.groupby(data_consume_actual.index.week).sum()\n",
    "plt.plot(week_consume.index, week_consume)\n",
    "plt.show()"
   ]
  }
 ],
 "metadata": {
  "kernelspec": {
   "display_name": "Python 2",
   "language": "python",
   "name": "python2"
  },
  "language_info": {
   "codemirror_mode": {
    "name": "ipython",
    "version": 2
   },
   "file_extension": ".py",
   "mimetype": "text/x-python",
   "name": "python",
   "nbconvert_exporter": "python",
   "pygments_lexer": "ipython2",
   "version": "2.7.13"
  }
 },
 "nbformat": 4,
 "nbformat_minor": 2
}
